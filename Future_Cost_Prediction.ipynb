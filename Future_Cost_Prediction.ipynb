{
  "nbformat": 4,
  "nbformat_minor": 0,
  "metadata": {
    "colab": {
      "provenance": [],
      "mount_file_id": "1X4R4gMiqxRNWTUPWgx0FDB7SL69DGGib",
      "authorship_tag": "ABX9TyNG7Ny/FDbS90lss4/HReWO",
      "include_colab_link": true
    },
    "kernelspec": {
      "name": "python3",
      "display_name": "Python 3"
    },
    "language_info": {
      "name": "python"
    }
  },
  "cells": [
    {
      "cell_type": "markdown",
      "metadata": {
        "id": "view-in-github",
        "colab_type": "text"
      },
      "source": [
        "<a href=\"https://colab.research.google.com/github/lucaspn017/cost_prediction/blob/main/Future_Cost_Prediction.ipynb\" target=\"_parent\"><img src=\"https://colab.research.google.com/assets/colab-badge.svg\" alt=\"Open In Colab\"/></a>"
      ]
    },
    {
      "cell_type": "markdown",
      "source": [
        "<h1> Objetivo <h1>\n",
        "\n",
        "- Atribuir valores de 0 ou 1 àquelas carcaterísticas que desejo empregar no comercial.\n",
        "\n",
        "- Indicar o tempo de sua duração.\n",
        "\n",
        "\n",
        " <strong>  O que desejo prever é o valor gasto com sua criação."
      ],
      "metadata": {
        "id": "V87woW-ueUTa"
      }
    },
    {
      "cell_type": "code",
      "execution_count": null,
      "metadata": {
        "id": "RtCOboqcU2gf"
      },
      "outputs": [],
      "source": [
        "import pandas as pd\n",
        "import numpy as np\n",
        "import plotly.express as px\n",
        "import plotly.graph_objects as go\n",
        "\n",
        "from sklearn.model_selection import train_test_split\n",
        "from sklearn.linear_model import LinearRegression\n"
      ]
    },
    {
      "cell_type": "code",
      "source": [
        "sb_commercials = pd.read_csv('drive/MyDrive/Super_Bowl_Commercials/superbowl_commercials.csv').drop(['Year', 'Brand', 'Superbowl Ads Link', 'Youtube Link'], axis=1).dropna()\n",
        "\n",
        "mergeServ = ['Funny',\t'Shows Product Quickly',\t'Patriotic',\t'Celebrity',\t'Danger',\t'Animals',\t'Uses Sex']\n",
        "sb_commercials =   sb_commercials.replace({False:0, True:1})\n",
        "\n",
        "display(sb_commercials)\n"
      ],
      "metadata": {
        "id": "Ej3HfK9b224H"
      },
      "execution_count": null,
      "outputs": []
    },
    {
      "cell_type": "markdown",
      "source": [
        "<h1> Qual a correlação entre uso de conteúdo sexual, custo estimado e tamanho do comercial, com o número de visualizações conjuntas na TV e no Youtube? <h1>\n",
        "\n",
        "<h4> - Devo verificar a correlação existente entre o número de 'artifícios' para a realização do comercial e o número de views.<h4>\n",
        "\n",
        "<h4> - Para tal, devo somar os valores binários em cada uma das colunas, para verificar se aqueles comerciais que mais se utilizam desses artifícios, são os mais caros, ou mais visualizados. <h4>\n"
      ],
      "metadata": {
        "id": "UCprvx8FDlrF"
      }
    },
    {
      "cell_type": "code",
      "source": [
        "#print(sb_commercials.isnull().sum())\n",
        "\n",
        "sb_commercials = sb_commercials.assign(services = sb_commercials.replace({False:0, True:1})[mergeServ].sum(axis=1))\n",
        "sb_commercials = sb_commercials.drop(mergeServ, axis=1)\n",
        "\n",
        "fig = px.scatter(data_frame=sb_commercials, x='Youtube Views', y='services', size='TV Viewers')\n",
        "fig.show()"
      ],
      "metadata": {
        "id": "mGLfu1qPCES7"
      },
      "execution_count": null,
      "outputs": []
    },
    {
      "cell_type": "code",
      "source": [
        "#Não há nenhum tipo de correlação explícita entre o número de artifícios e o número de views.\n",
        "\n",
        "correlation = sb_commercials.corr()\n",
        "print(correlation['services'].sort_values(ascending=False))\n",
        "\n",
        "#display(sb_commercials)\n",
        "#print(sb_commercials.sum())"
      ],
      "metadata": {
        "id": "1tXLibW1PSTW"
      },
      "execution_count": null,
      "outputs": []
    },
    {
      "cell_type": "markdown",
      "source": [
        "<h1> Passo 2: Separar os dados de teste e treino.<h1>"
      ],
      "metadata": {
        "id": "3S9E1-AXSzAq"
      }
    },
    {
      "cell_type": "code",
      "source": [
        "y = np.array(sb_commercials['Estimated Cost'])\n",
        "x = np.array(sb_commercials.drop(['Youtube Views', 'Youtube Likes', 'TV Viewers', 'Estimated Cost'], axis=1))\n",
        "\n",
        "xtrain, xtest, ytrain, ytest = train_test_split(x, y, test_size = 0.2, random_state = 0 )\n",
        "\n",
        "display(x[0])\n"
      ],
      "metadata": {
        "id": "dPYOODvZUZFA"
      },
      "execution_count": null,
      "outputs": []
    },
    {
      "cell_type": "markdown",
      "source": [
        "<h1> Passo 3: Escolher o modelo de regressão linear para prever o custo da propaganda e treinar o algoritmo <h1>"
      ],
      "metadata": {
        "id": "sm0zHcHQa37K"
      }
    },
    {
      "cell_type": "code",
      "source": [
        "alg = LinearRegression()\n",
        "alg.fit(xtrain, ytrain)\n",
        "\n",
        "print(alg.score(xtest,ytest))"
      ],
      "metadata": {
        "id": "1YyzTlNTbJ7g"
      },
      "execution_count": null,
      "outputs": []
    },
    {
      "cell_type": "markdown",
      "source": [
        "<h1> Passo 4: Realizar a predição do valor da propaganda <h1>"
      ],
      "metadata": {
        "id": "PeeFD-3ldjzu"
      }
    },
    {
      "cell_type": "code",
      "source": [
        "arrayTest = np.array([[1,1,0,1,0,1,1,90]])\n",
        "\n",
        "print(alg.predict(arrayTest))"
      ],
      "metadata": {
        "colab": {
          "base_uri": "https://localhost:8080/"
        },
        "id": "6fCPbCCJb1Oy",
        "outputId": "5b69430e-0327-4b77-d203-17c188df470d"
      },
      "execution_count": null,
      "outputs": [
        {
          "output_type": "stream",
          "name": "stdout",
          "text": [
            "[11.8317715]\n"
          ]
        }
      ]
    }
  ]
}